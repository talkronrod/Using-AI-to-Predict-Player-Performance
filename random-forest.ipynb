{
 "cells": [
  {
   "attachments": {},
   "cell_type": "markdown",
   "id": "cbdf3475",
   "metadata": {
    "papermill": {
     "duration": 0.008199,
     "end_time": "2023-05-02T04:14:23.052611",
     "exception": false,
     "start_time": "2023-05-02T04:14:23.044412",
     "status": "completed"
    },
    "tags": []
   },
   "source": [
    "# Random Forest \n",
    "In this notebook we present a Random Forest model. We train GroupKFold models for each of the 18 questions. We infer test using one of our KFold models. Also we can improve our LB by using more KFold models OR training one model using all data (and the hyperparameters that we found from our KFold cross validation)."
   ]
  },
  {
   "cell_type": "code",
   "execution_count": 1,
   "id": "3447cb22",
   "metadata": {
    "execution": {
     "iopub.execute_input": "2023-05-02T04:14:23.069164Z",
     "iopub.status.busy": "2023-05-02T04:14:23.068015Z",
     "iopub.status.idle": "2023-05-02T04:14:24.329114Z",
     "shell.execute_reply": "2023-05-02T04:14:24.328246Z"
    },
    "papermill": {
     "duration": 1.271895,
     "end_time": "2023-05-02T04:14:24.331663",
     "exception": false,
     "start_time": "2023-05-02T04:14:23.059768",
     "status": "completed"
    },
    "tags": []
   },
   "outputs": [],
   "source": [
    "import pandas as pd, numpy as np\n",
    "from sklearn.model_selection import KFold, GroupKFold\n",
    "from sklearn.ensemble import RandomForestClassifier\n",
    "from sklearn.metrics import f1_score"
   ]
  },
  {
   "cell_type": "code",
   "execution_count": 2,
   "id": "3d7db67f",
   "metadata": {
    "execution": {
     "iopub.execute_input": "2023-05-02T04:14:24.347025Z",
     "iopub.status.busy": "2023-05-02T04:14:24.346611Z",
     "iopub.status.idle": "2023-05-02T04:14:25.441038Z",
     "shell.execute_reply": "2023-05-02T04:14:25.439733Z"
    },
    "papermill": {
     "duration": 1.105009,
     "end_time": "2023-05-02T04:14:25.443678",
     "exception": false,
     "start_time": "2023-05-02T04:14:24.338669",
     "status": "completed"
    },
    "tags": []
   },
   "outputs": [
    {
     "name": "stdout",
     "output_type": "stream",
     "text": [
      "\u001b[H\u001b[2J"
     ]
    }
   ],
   "source": [
    "clear()"
   ]
  },
  {
   "cell_type": "markdown",
   "id": "759114d1",
   "metadata": {
    "papermill": {
     "duration": 0.006791,
     "end_time": "2023-05-02T04:14:25.457661",
     "exception": false,
     "start_time": "2023-05-02T04:14:25.450870",
     "status": "completed"
    },
    "tags": []
   },
   "source": [
    "# Load Train Data and Labels"
   ]
  },
  {
   "cell_type": "code",
   "execution_count": 3,
   "id": "88162eaa",
   "metadata": {
    "execution": {
     "iopub.execute_input": "2023-05-02T04:14:25.474221Z",
     "iopub.status.busy": "2023-05-02T04:14:25.473474Z",
     "iopub.status.idle": "2023-05-02T04:14:25.477682Z",
     "shell.execute_reply": "2023-05-02T04:14:25.476919Z"
    },
    "papermill": {
     "duration": 0.014969,
     "end_time": "2023-05-02T04:14:25.479762",
     "exception": false,
     "start_time": "2023-05-02T04:14:25.464793",
     "status": "completed"
    },
    "tags": []
   },
   "outputs": [],
   "source": [
    "# train = pd.read_csv('/kaggle/input/predict-student-performance-from-game-play/train.csv')\n",
    "# print( train.shape )\n",
    "# train.head()"
   ]
  },
  {
   "cell_type": "code",
   "execution_count": 4,
   "id": "860f3a32",
   "metadata": {
    "execution": {
     "iopub.execute_input": "2023-05-02T04:14:25.496028Z",
     "iopub.status.busy": "2023-05-02T04:14:25.495328Z",
     "iopub.status.idle": "2023-05-02T04:15:44.354822Z",
     "shell.execute_reply": "2023-05-02T04:15:44.346560Z"
    },
    "papermill": {
     "duration": 78.870713,
     "end_time": "2023-05-02T04:15:44.357618",
     "exception": false,
     "start_time": "2023-05-02T04:14:25.486905",
     "status": "completed"
    },
    "tags": []
   },
   "outputs": [
    {
     "name": "stdout",
     "output_type": "stream",
     "text": [
      "To avoid memory error, we will read train in 10 pieces of sizes:\n",
      "[2684191, 2631991, 2638304, 2657670, 2644229, 2629801, 2596616, 2602258, 2619995, 2591891]\n"
     ]
    }
   ],
   "source": [
    "# READ USER ID ONLY\n",
    "tmp = pd.read_csv(\"/kaggle/input/predict-student-performance-from-game-play/train.csv\",usecols=[0])\n",
    "tmp = tmp.groupby('session_id').session_id.agg('count')\n",
    "\n",
    "# COMPUTE READS AND SKIPS\n",
    "PIECES = 10\n",
    "CHUNK = int( np.ceil(len(tmp)/PIECES) )\n",
    "\n",
    "reads = []\n",
    "skips = [0]\n",
    "for k in range(PIECES):\n",
    "    a = k*CHUNK\n",
    "    b = (k+1)*CHUNK\n",
    "    if b>len(tmp): b=len(tmp)\n",
    "    r = tmp.iloc[a:b].sum()\n",
    "    reads.append(r)\n",
    "    skips.append(skips[-1]+r)\n",
    "    \n",
    "print(f'To avoid memory error, we will read train in {PIECES} pieces of sizes:')\n",
    "print(reads)"
   ]
  },
  {
   "cell_type": "code",
   "execution_count": 5,
   "id": "e701ef68",
   "metadata": {
    "execution": {
     "iopub.execute_input": "2023-05-02T04:15:44.375774Z",
     "iopub.status.busy": "2023-05-02T04:15:44.374818Z",
     "iopub.status.idle": "2023-05-02T04:15:50.793020Z",
     "shell.execute_reply": "2023-05-02T04:15:50.792047Z"
    },
    "papermill": {
     "duration": 6.433186,
     "end_time": "2023-05-02T04:15:50.797889",
     "exception": false,
     "start_time": "2023-05-02T04:15:44.364703",
     "status": "completed"
    },
    "tags": []
   },
   "outputs": [
    {
     "name": "stdout",
     "output_type": "stream",
     "text": [
      "Train size of first piece: (2684191, 20)\n"
     ]
    },
    {
     "data": {
      "text/html": [
       "<div>\n",
       "<style scoped>\n",
       "    .dataframe tbody tr th:only-of-type {\n",
       "        vertical-align: middle;\n",
       "    }\n",
       "\n",
       "    .dataframe tbody tr th {\n",
       "        vertical-align: top;\n",
       "    }\n",
       "\n",
       "    .dataframe thead th {\n",
       "        text-align: right;\n",
       "    }\n",
       "</style>\n",
       "<table border=\"1\" class=\"dataframe\">\n",
       "  <thead>\n",
       "    <tr style=\"text-align: right;\">\n",
       "      <th></th>\n",
       "      <th>session_id</th>\n",
       "      <th>index</th>\n",
       "      <th>elapsed_time</th>\n",
       "      <th>event_name</th>\n",
       "      <th>name</th>\n",
       "      <th>level</th>\n",
       "      <th>page</th>\n",
       "      <th>room_coor_x</th>\n",
       "      <th>room_coor_y</th>\n",
       "      <th>screen_coor_x</th>\n",
       "      <th>screen_coor_y</th>\n",
       "      <th>hover_duration</th>\n",
       "      <th>text</th>\n",
       "      <th>fqid</th>\n",
       "      <th>room_fqid</th>\n",
       "      <th>text_fqid</th>\n",
       "      <th>fullscreen</th>\n",
       "      <th>hq</th>\n",
       "      <th>music</th>\n",
       "      <th>level_group</th>\n",
       "    </tr>\n",
       "  </thead>\n",
       "  <tbody>\n",
       "    <tr>\n",
       "      <th>0</th>\n",
       "      <td>20090312431273200</td>\n",
       "      <td>0</td>\n",
       "      <td>0</td>\n",
       "      <td>cutscene_click</td>\n",
       "      <td>basic</td>\n",
       "      <td>0</td>\n",
       "      <td>NaN</td>\n",
       "      <td>-413.991405</td>\n",
       "      <td>-159.314686</td>\n",
       "      <td>380.0</td>\n",
       "      <td>494.0</td>\n",
       "      <td>NaN</td>\n",
       "      <td>undefined</td>\n",
       "      <td>intro</td>\n",
       "      <td>tunic.historicalsociety.closet</td>\n",
       "      <td>tunic.historicalsociety.closet.intro</td>\n",
       "      <td>0</td>\n",
       "      <td>0</td>\n",
       "      <td>1</td>\n",
       "      <td>0-4</td>\n",
       "    </tr>\n",
       "    <tr>\n",
       "      <th>1</th>\n",
       "      <td>20090312431273200</td>\n",
       "      <td>1</td>\n",
       "      <td>1323</td>\n",
       "      <td>person_click</td>\n",
       "      <td>basic</td>\n",
       "      <td>0</td>\n",
       "      <td>NaN</td>\n",
       "      <td>-413.991405</td>\n",
       "      <td>-159.314686</td>\n",
       "      <td>380.0</td>\n",
       "      <td>494.0</td>\n",
       "      <td>NaN</td>\n",
       "      <td>Whatcha doing over there, Jo?</td>\n",
       "      <td>gramps</td>\n",
       "      <td>tunic.historicalsociety.closet</td>\n",
       "      <td>tunic.historicalsociety.closet.gramps.intro_0_...</td>\n",
       "      <td>0</td>\n",
       "      <td>0</td>\n",
       "      <td>1</td>\n",
       "      <td>0-4</td>\n",
       "    </tr>\n",
       "    <tr>\n",
       "      <th>2</th>\n",
       "      <td>20090312431273200</td>\n",
       "      <td>2</td>\n",
       "      <td>831</td>\n",
       "      <td>person_click</td>\n",
       "      <td>basic</td>\n",
       "      <td>0</td>\n",
       "      <td>NaN</td>\n",
       "      <td>-413.991405</td>\n",
       "      <td>-159.314686</td>\n",
       "      <td>380.0</td>\n",
       "      <td>494.0</td>\n",
       "      <td>NaN</td>\n",
       "      <td>Just talking to Teddy.</td>\n",
       "      <td>gramps</td>\n",
       "      <td>tunic.historicalsociety.closet</td>\n",
       "      <td>tunic.historicalsociety.closet.gramps.intro_0_...</td>\n",
       "      <td>0</td>\n",
       "      <td>0</td>\n",
       "      <td>1</td>\n",
       "      <td>0-4</td>\n",
       "    </tr>\n",
       "    <tr>\n",
       "      <th>3</th>\n",
       "      <td>20090312431273200</td>\n",
       "      <td>3</td>\n",
       "      <td>1147</td>\n",
       "      <td>person_click</td>\n",
       "      <td>basic</td>\n",
       "      <td>0</td>\n",
       "      <td>NaN</td>\n",
       "      <td>-413.991405</td>\n",
       "      <td>-159.314686</td>\n",
       "      <td>380.0</td>\n",
       "      <td>494.0</td>\n",
       "      <td>NaN</td>\n",
       "      <td>I gotta run to my meeting!</td>\n",
       "      <td>gramps</td>\n",
       "      <td>tunic.historicalsociety.closet</td>\n",
       "      <td>tunic.historicalsociety.closet.gramps.intro_0_...</td>\n",
       "      <td>0</td>\n",
       "      <td>0</td>\n",
       "      <td>1</td>\n",
       "      <td>0-4</td>\n",
       "    </tr>\n",
       "    <tr>\n",
       "      <th>4</th>\n",
       "      <td>20090312431273200</td>\n",
       "      <td>4</td>\n",
       "      <td>1863</td>\n",
       "      <td>person_click</td>\n",
       "      <td>basic</td>\n",
       "      <td>0</td>\n",
       "      <td>NaN</td>\n",
       "      <td>-412.991405</td>\n",
       "      <td>-159.314686</td>\n",
       "      <td>381.0</td>\n",
       "      <td>494.0</td>\n",
       "      <td>NaN</td>\n",
       "      <td>Can I come, Gramps?</td>\n",
       "      <td>gramps</td>\n",
       "      <td>tunic.historicalsociety.closet</td>\n",
       "      <td>tunic.historicalsociety.closet.gramps.intro_0_...</td>\n",
       "      <td>0</td>\n",
       "      <td>0</td>\n",
       "      <td>1</td>\n",
       "      <td>0-4</td>\n",
       "    </tr>\n",
       "  </tbody>\n",
       "</table>\n",
       "</div>"
      ],
      "text/plain": [
       "          session_id  index  elapsed_time      event_name   name  level  page  \\\n",
       "0  20090312431273200      0             0  cutscene_click  basic      0   NaN   \n",
       "1  20090312431273200      1          1323    person_click  basic      0   NaN   \n",
       "2  20090312431273200      2           831    person_click  basic      0   NaN   \n",
       "3  20090312431273200      3          1147    person_click  basic      0   NaN   \n",
       "4  20090312431273200      4          1863    person_click  basic      0   NaN   \n",
       "\n",
       "   room_coor_x  room_coor_y  screen_coor_x  screen_coor_y  hover_duration  \\\n",
       "0  -413.991405  -159.314686          380.0          494.0             NaN   \n",
       "1  -413.991405  -159.314686          380.0          494.0             NaN   \n",
       "2  -413.991405  -159.314686          380.0          494.0             NaN   \n",
       "3  -413.991405  -159.314686          380.0          494.0             NaN   \n",
       "4  -412.991405  -159.314686          381.0          494.0             NaN   \n",
       "\n",
       "                            text    fqid                       room_fqid  \\\n",
       "0                      undefined   intro  tunic.historicalsociety.closet   \n",
       "1  Whatcha doing over there, Jo?  gramps  tunic.historicalsociety.closet   \n",
       "2         Just talking to Teddy.  gramps  tunic.historicalsociety.closet   \n",
       "3     I gotta run to my meeting!  gramps  tunic.historicalsociety.closet   \n",
       "4            Can I come, Gramps?  gramps  tunic.historicalsociety.closet   \n",
       "\n",
       "                                           text_fqid  fullscreen  hq  music  \\\n",
       "0               tunic.historicalsociety.closet.intro           0   0      1   \n",
       "1  tunic.historicalsociety.closet.gramps.intro_0_...           0   0      1   \n",
       "2  tunic.historicalsociety.closet.gramps.intro_0_...           0   0      1   \n",
       "3  tunic.historicalsociety.closet.gramps.intro_0_...           0   0      1   \n",
       "4  tunic.historicalsociety.closet.gramps.intro_0_...           0   0      1   \n",
       "\n",
       "  level_group  \n",
       "0         0-4  \n",
       "1         0-4  \n",
       "2         0-4  \n",
       "3         0-4  \n",
       "4         0-4  "
      ]
     },
     "execution_count": 5,
     "metadata": {},
     "output_type": "execute_result"
    }
   ],
   "source": [
    "train = pd.read_csv('/kaggle/input/predict-student-performance-from-game-play/train.csv', nrows=reads[0])\n",
    "print('Train size of first piece:', train.shape )\n",
    "train.head()"
   ]
  },
  {
   "cell_type": "code",
   "execution_count": 6,
   "id": "6da27538",
   "metadata": {
    "execution": {
     "iopub.execute_input": "2023-05-02T04:15:50.814743Z",
     "iopub.status.busy": "2023-05-02T04:15:50.814364Z",
     "iopub.status.idle": "2023-05-02T04:15:51.976536Z",
     "shell.execute_reply": "2023-05-02T04:15:51.975534Z"
    },
    "papermill": {
     "duration": 1.173042,
     "end_time": "2023-05-02T04:15:51.978649",
     "exception": false,
     "start_time": "2023-05-02T04:15:50.805607",
     "status": "completed"
    },
    "tags": []
   },
   "outputs": [
    {
     "name": "stdout",
     "output_type": "stream",
     "text": [
      "(424116, 4)\n"
     ]
    },
    {
     "data": {
      "text/html": [
       "<div>\n",
       "<style scoped>\n",
       "    .dataframe tbody tr th:only-of-type {\n",
       "        vertical-align: middle;\n",
       "    }\n",
       "\n",
       "    .dataframe tbody tr th {\n",
       "        vertical-align: top;\n",
       "    }\n",
       "\n",
       "    .dataframe thead th {\n",
       "        text-align: right;\n",
       "    }\n",
       "</style>\n",
       "<table border=\"1\" class=\"dataframe\">\n",
       "  <thead>\n",
       "    <tr style=\"text-align: right;\">\n",
       "      <th></th>\n",
       "      <th>session_id</th>\n",
       "      <th>correct</th>\n",
       "      <th>session</th>\n",
       "      <th>q</th>\n",
       "    </tr>\n",
       "  </thead>\n",
       "  <tbody>\n",
       "    <tr>\n",
       "      <th>0</th>\n",
       "      <td>20090312431273200_q1</td>\n",
       "      <td>1</td>\n",
       "      <td>20090312431273200</td>\n",
       "      <td>1</td>\n",
       "    </tr>\n",
       "    <tr>\n",
       "      <th>1</th>\n",
       "      <td>20090312433251036_q1</td>\n",
       "      <td>0</td>\n",
       "      <td>20090312433251036</td>\n",
       "      <td>1</td>\n",
       "    </tr>\n",
       "    <tr>\n",
       "      <th>2</th>\n",
       "      <td>20090312455206810_q1</td>\n",
       "      <td>1</td>\n",
       "      <td>20090312455206810</td>\n",
       "      <td>1</td>\n",
       "    </tr>\n",
       "    <tr>\n",
       "      <th>3</th>\n",
       "      <td>20090313091715820_q1</td>\n",
       "      <td>0</td>\n",
       "      <td>20090313091715820</td>\n",
       "      <td>1</td>\n",
       "    </tr>\n",
       "    <tr>\n",
       "      <th>4</th>\n",
       "      <td>20090313571836404_q1</td>\n",
       "      <td>1</td>\n",
       "      <td>20090313571836404</td>\n",
       "      <td>1</td>\n",
       "    </tr>\n",
       "  </tbody>\n",
       "</table>\n",
       "</div>"
      ],
      "text/plain": [
       "             session_id  correct            session  q\n",
       "0  20090312431273200_q1        1  20090312431273200  1\n",
       "1  20090312433251036_q1        0  20090312433251036  1\n",
       "2  20090312455206810_q1        1  20090312455206810  1\n",
       "3  20090313091715820_q1        0  20090313091715820  1\n",
       "4  20090313571836404_q1        1  20090313571836404  1"
      ]
     },
     "execution_count": 6,
     "metadata": {},
     "output_type": "execute_result"
    }
   ],
   "source": [
    "targets = pd.read_csv('/kaggle/input/predict-student-performance-from-game-play/train_labels.csv')\n",
    "targets['session'] = targets.session_id.apply(lambda x: int(x.split('_')[0]) )\n",
    "targets['q'] = targets.session_id.apply(lambda x: int(x.split('_')[-1][1:]) )\n",
    "print( targets.shape )\n",
    "targets.head()"
   ]
  },
  {
   "attachments": {},
   "cell_type": "markdown",
   "id": "c891194d",
   "metadata": {
    "papermill": {
     "duration": 0.008169,
     "end_time": "2023-05-02T04:15:51.994672",
     "exception": false,
     "start_time": "2023-05-02T04:15:51.986503",
     "status": "completed"
    },
    "tags": []
   },
   "source": [
    "# Feature Engineer"
   ]
  },
  {
   "cell_type": "code",
   "execution_count": 7,
   "id": "60590f38",
   "metadata": {
    "execution": {
     "iopub.execute_input": "2023-05-02T04:15:52.012359Z",
     "iopub.status.busy": "2023-05-02T04:15:52.011702Z",
     "iopub.status.idle": "2023-05-02T04:15:52.016306Z",
     "shell.execute_reply": "2023-05-02T04:15:52.015495Z"
    },
    "papermill": {
     "duration": 0.015805,
     "end_time": "2023-05-02T04:15:52.018301",
     "exception": false,
     "start_time": "2023-05-02T04:15:52.002496",
     "status": "completed"
    },
    "tags": []
   },
   "outputs": [],
   "source": [
    "CATS = ['event_name', 'name','fqid', 'room_fqid', 'text_fqid']\n",
    "NUMS = ['elapsed_time','level','page','room_coor_x', 'room_coor_y', \n",
    "        'screen_coor_x', 'screen_coor_y', 'hover_duration']"
   ]
  },
  {
   "cell_type": "code",
   "execution_count": 8,
   "id": "f55a0d69",
   "metadata": {
    "execution": {
     "iopub.execute_input": "2023-05-02T04:15:52.036428Z",
     "iopub.status.busy": "2023-05-02T04:15:52.035734Z",
     "iopub.status.idle": "2023-05-02T04:15:52.048233Z",
     "shell.execute_reply": "2023-05-02T04:15:52.047368Z"
    },
    "papermill": {
     "duration": 0.024266,
     "end_time": "2023-05-02T04:15:52.050577",
     "exception": false,
     "start_time": "2023-05-02T04:15:52.026311",
     "status": "completed"
    },
    "tags": []
   },
   "outputs": [],
   "source": [
    "def feature_engineer(train):\n",
    "#     dfs = []\n",
    "#     for c in CATS:\n",
    "#         tmp = train.groupby(['session_id','level_group'])[c].agg('nunique')\n",
    "#         tmp.name = tmp.name + '_nunique'\n",
    "#         dfs.append(tmp)\n",
    "#     for c in NUMS:\n",
    "#         tmp = train.groupby(['session_id','level_group'])[c].agg('mean')\n",
    "#         dfs.append(tmp)\n",
    "#     for c in NUMS:\n",
    "#         tmp = train.groupby(['session_id','level_group'])[c].agg('std')\n",
    "#         tmp.name = tmp.name + '_std'\n",
    "#         dfs.append(tmp)\n",
    "\n",
    "    #drop columns we dont care about \n",
    "    train = train.drop(labels=['level', 'text_fqid'], inplace=False, axis = 1)\n",
    "    \n",
    "    #normalize continuous variables\n",
    "    CONT = ['elapsed_time' , 'room_coor_x', 'room_coor_y', 'screen_coor_x', 'screen_coor_y', 'hover_duration']\n",
    "\n",
    "    for i in CONT:\n",
    "        train[i].fillna(train[i].mean(), inplace=True)\n",
    "      #  FILL IN THE MISSING VALUES W AVERAGE\n",
    "        train[i] = (train[i]-train[i].min())/(train[i].max()-train[i].min())\n",
    "    train.describe()\n",
    "    \n",
    "    #create dummie variables\n",
    "    CAT = ['event_name', 'room_fqid']\n",
    "    train = pd.get_dummies(train, columns=CAT, drop_first=True)\n",
    "    \n",
    "    #turn name into binary\n",
    "    train['name'] = train['name'].replace(to_replace=['basic', 'undefined'], value=0)\n",
    "    train['name'] = train['name'].replace(to_replace=['close', 'open', 'prev', 'next'], value=1)\n",
    "    train['name'].astype(int) \n",
    "    \n",
    "    #turn text into binary\n",
    "    train['text'] = train['text'].replace(to_replace=[np.nan, 'undefined'], value=0)\n",
    "    train.loc[train['text']!=0, ['text']] = 1\n",
    "    train['text'].astype(int)\n",
    "    \n",
    "    #turn fqid into binary\n",
    "    train['fqid'] = train['fqid'].replace(to_replace=[np.nan], value=0)\n",
    "    train['fqid'][train['fqid'] != 0] = 1\n",
    "    train['fqid'].astype(int)\n",
    "    \n",
    "    #turn page into binary\n",
    "    train['page'] = train['page'].replace(to_replace=[np.nan, 'undefined'], value=0)\n",
    "    train['page'][train['page'] != 0] = 1\n",
    "    train['page'].astype(int)\n",
    "    \n",
    "#     train = pd.concat(train,axis=1)\n",
    "    train = train.fillna(-1)\n",
    "    train = train.reset_index()\n",
    "    train = train.set_index('session_id')\n",
    "    return train"
   ]
  },
  {
   "cell_type": "code",
   "execution_count": 9,
   "id": "e04100e7",
   "metadata": {
    "execution": {
     "iopub.execute_input": "2023-05-02T04:15:52.068490Z",
     "iopub.status.busy": "2023-05-02T04:15:52.067754Z",
     "iopub.status.idle": "2023-05-02T04:16:00.938142Z",
     "shell.execute_reply": "2023-05-02T04:16:00.937315Z"
    },
    "papermill": {
     "duration": 8.881931,
     "end_time": "2023-05-02T04:16:00.940438",
     "exception": false,
     "start_time": "2023-05-02T04:15:52.058507",
     "status": "completed"
    },
    "tags": []
   },
   "outputs": [
    {
     "name": "stderr",
     "output_type": "stream",
     "text": [
      "/opt/conda/lib/python3.7/site-packages/ipykernel_launcher.py:43: SettingWithCopyWarning: \n",
      "A value is trying to be set on a copy of a slice from a DataFrame\n",
      "\n",
      "See the caveats in the documentation: https://pandas.pydata.org/pandas-docs/stable/user_guide/indexing.html#returning-a-view-versus-a-copy\n",
      "/opt/conda/lib/python3.7/site-packages/ipykernel_launcher.py:48: SettingWithCopyWarning: \n",
      "A value is trying to be set on a copy of a slice from a DataFrame\n",
      "\n",
      "See the caveats in the documentation: https://pandas.pydata.org/pandas-docs/stable/user_guide/indexing.html#returning-a-view-versus-a-copy\n"
     ]
    },
    {
     "name": "stdout",
     "output_type": "stream",
     "text": [
      "(2684191, 44)\n",
      "CPU times: user 7.74 s, sys: 1.13 s, total: 8.87 s\n",
      "Wall time: 8.85 s\n"
     ]
    },
    {
     "data": {
      "text/html": [
       "<div>\n",
       "<style scoped>\n",
       "    .dataframe tbody tr th:only-of-type {\n",
       "        vertical-align: middle;\n",
       "    }\n",
       "\n",
       "    .dataframe tbody tr th {\n",
       "        vertical-align: top;\n",
       "    }\n",
       "\n",
       "    .dataframe thead th {\n",
       "        text-align: right;\n",
       "    }\n",
       "</style>\n",
       "<table border=\"1\" class=\"dataframe\">\n",
       "  <thead>\n",
       "    <tr style=\"text-align: right;\">\n",
       "      <th></th>\n",
       "      <th>level_0</th>\n",
       "      <th>index</th>\n",
       "      <th>elapsed_time</th>\n",
       "      <th>name</th>\n",
       "      <th>page</th>\n",
       "      <th>room_coor_x</th>\n",
       "      <th>room_coor_y</th>\n",
       "      <th>screen_coor_x</th>\n",
       "      <th>screen_coor_y</th>\n",
       "      <th>hover_duration</th>\n",
       "      <th>...</th>\n",
       "      <th>room_fqid_tunic.historicalsociety.collection</th>\n",
       "      <th>room_fqid_tunic.historicalsociety.collection_flag</th>\n",
       "      <th>room_fqid_tunic.historicalsociety.entry</th>\n",
       "      <th>room_fqid_tunic.historicalsociety.frontdesk</th>\n",
       "      <th>room_fqid_tunic.historicalsociety.stacks</th>\n",
       "      <th>room_fqid_tunic.humanecology.frontdesk</th>\n",
       "      <th>room_fqid_tunic.kohlcenter.halloffame</th>\n",
       "      <th>room_fqid_tunic.library.frontdesk</th>\n",
       "      <th>room_fqid_tunic.library.microfiche</th>\n",
       "      <th>room_fqid_tunic.wildlife.center</th>\n",
       "    </tr>\n",
       "    <tr>\n",
       "      <th>session_id</th>\n",
       "      <th></th>\n",
       "      <th></th>\n",
       "      <th></th>\n",
       "      <th></th>\n",
       "      <th></th>\n",
       "      <th></th>\n",
       "      <th></th>\n",
       "      <th></th>\n",
       "      <th></th>\n",
       "      <th></th>\n",
       "      <th></th>\n",
       "      <th></th>\n",
       "      <th></th>\n",
       "      <th></th>\n",
       "      <th></th>\n",
       "      <th></th>\n",
       "      <th></th>\n",
       "      <th></th>\n",
       "      <th></th>\n",
       "      <th></th>\n",
       "      <th></th>\n",
       "    </tr>\n",
       "  </thead>\n",
       "  <tbody>\n",
       "    <tr>\n",
       "      <th>20090312431273200</th>\n",
       "      <td>0</td>\n",
       "      <td>0</td>\n",
       "      <td>0.000000</td>\n",
       "      <td>0</td>\n",
       "      <td>0.0</td>\n",
       "      <td>0.485514</td>\n",
       "      <td>0.520984</td>\n",
       "      <td>0.198020</td>\n",
       "      <td>0.343056</td>\n",
       "      <td>0.000032</td>\n",
       "      <td>...</td>\n",
       "      <td>0</td>\n",
       "      <td>0</td>\n",
       "      <td>0</td>\n",
       "      <td>0</td>\n",
       "      <td>0</td>\n",
       "      <td>0</td>\n",
       "      <td>0</td>\n",
       "      <td>0</td>\n",
       "      <td>0</td>\n",
       "      <td>0</td>\n",
       "    </tr>\n",
       "    <tr>\n",
       "      <th>20090312431273200</th>\n",
       "      <td>1</td>\n",
       "      <td>1</td>\n",
       "      <td>0.000002</td>\n",
       "      <td>0</td>\n",
       "      <td>0.0</td>\n",
       "      <td>0.485514</td>\n",
       "      <td>0.520984</td>\n",
       "      <td>0.198020</td>\n",
       "      <td>0.343056</td>\n",
       "      <td>0.000032</td>\n",
       "      <td>...</td>\n",
       "      <td>0</td>\n",
       "      <td>0</td>\n",
       "      <td>0</td>\n",
       "      <td>0</td>\n",
       "      <td>0</td>\n",
       "      <td>0</td>\n",
       "      <td>0</td>\n",
       "      <td>0</td>\n",
       "      <td>0</td>\n",
       "      <td>0</td>\n",
       "    </tr>\n",
       "    <tr>\n",
       "      <th>20090312431273200</th>\n",
       "      <td>2</td>\n",
       "      <td>2</td>\n",
       "      <td>0.000001</td>\n",
       "      <td>0</td>\n",
       "      <td>0.0</td>\n",
       "      <td>0.485514</td>\n",
       "      <td>0.520984</td>\n",
       "      <td>0.198020</td>\n",
       "      <td>0.343056</td>\n",
       "      <td>0.000032</td>\n",
       "      <td>...</td>\n",
       "      <td>0</td>\n",
       "      <td>0</td>\n",
       "      <td>0</td>\n",
       "      <td>0</td>\n",
       "      <td>0</td>\n",
       "      <td>0</td>\n",
       "      <td>0</td>\n",
       "      <td>0</td>\n",
       "      <td>0</td>\n",
       "      <td>0</td>\n",
       "    </tr>\n",
       "    <tr>\n",
       "      <th>20090312431273200</th>\n",
       "      <td>3</td>\n",
       "      <td>3</td>\n",
       "      <td>0.000002</td>\n",
       "      <td>0</td>\n",
       "      <td>0.0</td>\n",
       "      <td>0.485514</td>\n",
       "      <td>0.520984</td>\n",
       "      <td>0.198020</td>\n",
       "      <td>0.343056</td>\n",
       "      <td>0.000032</td>\n",
       "      <td>...</td>\n",
       "      <td>0</td>\n",
       "      <td>0</td>\n",
       "      <td>0</td>\n",
       "      <td>0</td>\n",
       "      <td>0</td>\n",
       "      <td>0</td>\n",
       "      <td>0</td>\n",
       "      <td>0</td>\n",
       "      <td>0</td>\n",
       "      <td>0</td>\n",
       "    </tr>\n",
       "    <tr>\n",
       "      <th>20090312431273200</th>\n",
       "      <td>4</td>\n",
       "      <td>4</td>\n",
       "      <td>0.000003</td>\n",
       "      <td>0</td>\n",
       "      <td>0.0</td>\n",
       "      <td>0.485822</td>\n",
       "      <td>0.520984</td>\n",
       "      <td>0.198541</td>\n",
       "      <td>0.343056</td>\n",
       "      <td>0.000032</td>\n",
       "      <td>...</td>\n",
       "      <td>0</td>\n",
       "      <td>0</td>\n",
       "      <td>0</td>\n",
       "      <td>0</td>\n",
       "      <td>0</td>\n",
       "      <td>0</td>\n",
       "      <td>0</td>\n",
       "      <td>0</td>\n",
       "      <td>0</td>\n",
       "      <td>0</td>\n",
       "    </tr>\n",
       "  </tbody>\n",
       "</table>\n",
       "<p>5 rows × 44 columns</p>\n",
       "</div>"
      ],
      "text/plain": [
       "                   level_0  index  elapsed_time  name  page  room_coor_x  \\\n",
       "session_id                                                                 \n",
       "20090312431273200        0      0      0.000000     0   0.0     0.485514   \n",
       "20090312431273200        1      1      0.000002     0   0.0     0.485514   \n",
       "20090312431273200        2      2      0.000001     0   0.0     0.485514   \n",
       "20090312431273200        3      3      0.000002     0   0.0     0.485514   \n",
       "20090312431273200        4      4      0.000003     0   0.0     0.485822   \n",
       "\n",
       "                   room_coor_y  screen_coor_x  screen_coor_y  hover_duration  \\\n",
       "session_id                                                                     \n",
       "20090312431273200     0.520984       0.198020       0.343056        0.000032   \n",
       "20090312431273200     0.520984       0.198020       0.343056        0.000032   \n",
       "20090312431273200     0.520984       0.198020       0.343056        0.000032   \n",
       "20090312431273200     0.520984       0.198020       0.343056        0.000032   \n",
       "20090312431273200     0.520984       0.198541       0.343056        0.000032   \n",
       "\n",
       "                   ...  room_fqid_tunic.historicalsociety.collection  \\\n",
       "session_id         ...                                                 \n",
       "20090312431273200  ...                                             0   \n",
       "20090312431273200  ...                                             0   \n",
       "20090312431273200  ...                                             0   \n",
       "20090312431273200  ...                                             0   \n",
       "20090312431273200  ...                                             0   \n",
       "\n",
       "                   room_fqid_tunic.historicalsociety.collection_flag  \\\n",
       "session_id                                                             \n",
       "20090312431273200                                                  0   \n",
       "20090312431273200                                                  0   \n",
       "20090312431273200                                                  0   \n",
       "20090312431273200                                                  0   \n",
       "20090312431273200                                                  0   \n",
       "\n",
       "                   room_fqid_tunic.historicalsociety.entry  \\\n",
       "session_id                                                   \n",
       "20090312431273200                                        0   \n",
       "20090312431273200                                        0   \n",
       "20090312431273200                                        0   \n",
       "20090312431273200                                        0   \n",
       "20090312431273200                                        0   \n",
       "\n",
       "                   room_fqid_tunic.historicalsociety.frontdesk  \\\n",
       "session_id                                                       \n",
       "20090312431273200                                            0   \n",
       "20090312431273200                                            0   \n",
       "20090312431273200                                            0   \n",
       "20090312431273200                                            0   \n",
       "20090312431273200                                            0   \n",
       "\n",
       "                   room_fqid_tunic.historicalsociety.stacks  \\\n",
       "session_id                                                    \n",
       "20090312431273200                                         0   \n",
       "20090312431273200                                         0   \n",
       "20090312431273200                                         0   \n",
       "20090312431273200                                         0   \n",
       "20090312431273200                                         0   \n",
       "\n",
       "                  room_fqid_tunic.humanecology.frontdesk  \\\n",
       "session_id                                                 \n",
       "20090312431273200                                      0   \n",
       "20090312431273200                                      0   \n",
       "20090312431273200                                      0   \n",
       "20090312431273200                                      0   \n",
       "20090312431273200                                      0   \n",
       "\n",
       "                   room_fqid_tunic.kohlcenter.halloffame  \\\n",
       "session_id                                                 \n",
       "20090312431273200                                      0   \n",
       "20090312431273200                                      0   \n",
       "20090312431273200                                      0   \n",
       "20090312431273200                                      0   \n",
       "20090312431273200                                      0   \n",
       "\n",
       "                   room_fqid_tunic.library.frontdesk  \\\n",
       "session_id                                             \n",
       "20090312431273200                                  0   \n",
       "20090312431273200                                  0   \n",
       "20090312431273200                                  0   \n",
       "20090312431273200                                  0   \n",
       "20090312431273200                                  0   \n",
       "\n",
       "                   room_fqid_tunic.library.microfiche  \\\n",
       "session_id                                              \n",
       "20090312431273200                                   0   \n",
       "20090312431273200                                   0   \n",
       "20090312431273200                                   0   \n",
       "20090312431273200                                   0   \n",
       "20090312431273200                                   0   \n",
       "\n",
       "                   room_fqid_tunic.wildlife.center  \n",
       "session_id                                          \n",
       "20090312431273200                                0  \n",
       "20090312431273200                                0  \n",
       "20090312431273200                                0  \n",
       "20090312431273200                                0  \n",
       "20090312431273200                                0  \n",
       "\n",
       "[5 rows x 44 columns]"
      ]
     },
     "execution_count": 9,
     "metadata": {},
     "output_type": "execute_result"
    }
   ],
   "source": [
    "%%time\n",
    "df = feature_engineer(train)\n",
    "print( df.shape )\n",
    "df.head()"
   ]
  },
  {
   "cell_type": "markdown",
   "id": "2ddfcae0",
   "metadata": {
    "papermill": {
     "duration": 0.008066,
     "end_time": "2023-05-02T04:16:00.957005",
     "exception": false,
     "start_time": "2023-05-02T04:16:00.948939",
     "status": "completed"
    },
    "tags": []
   },
   "source": [
    "# Train Random Forest Model\n",
    "We train one model for each of 18 questions. Furthermore, we use data from `level_groups = '0-4'` to train model for questions 1-3, and `level groups '5-12'` to train questions 4 thru 13 and `level groups '13-22'` to train questions 14 thru 18. Because this is the data we get (to predict corresponding questions) from Kaggle's inference API during test inference. We can improve our model by saving a user's previous data from earlier `level_groups` and using that to predict future `level_groups`."
   ]
  },
  {
   "cell_type": "code",
   "execution_count": 10,
   "id": "291f02d7",
   "metadata": {
    "execution": {
     "iopub.execute_input": "2023-05-02T04:16:00.975655Z",
     "iopub.status.busy": "2023-05-02T04:16:00.975266Z",
     "iopub.status.idle": "2023-05-02T04:16:01.030680Z",
     "shell.execute_reply": "2023-05-02T04:16:01.029514Z"
    },
    "papermill": {
     "duration": 0.068264,
     "end_time": "2023-05-02T04:16:01.033845",
     "exception": false,
     "start_time": "2023-05-02T04:16:00.965581",
     "status": "completed"
    },
    "tags": []
   },
   "outputs": [
    {
     "name": "stdout",
     "output_type": "stream",
     "text": [
      "We will train with 43 features\n",
      "We will train with 2357 users info\n"
     ]
    }
   ],
   "source": [
    "FEATURES = [c for c in df.columns if c != 'level_group']\n",
    "print('We will train with', len(FEATURES) ,'features')\n",
    "ALL_USERS = df.index.unique()\n",
    "print('We will train with', len(ALL_USERS) ,'users info')"
   ]
  },
  {
   "cell_type": "code",
   "execution_count": 11,
   "id": "529322ea",
   "metadata": {
    "execution": {
     "iopub.execute_input": "2023-05-02T04:16:01.053393Z",
     "iopub.status.busy": "2023-05-02T04:16:01.052970Z",
     "iopub.status.idle": "2023-05-02T04:16:01.136609Z",
     "shell.execute_reply": "2023-05-02T04:16:01.135609Z"
    },
    "papermill": {
     "duration": 0.09644,
     "end_time": "2023-05-02T04:16:01.139253",
     "exception": false,
     "start_time": "2023-05-02T04:16:01.042813",
     "status": "completed"
    },
    "tags": []
   },
   "outputs": [],
   "source": [
    "from sklearn.ensemble import RandomForestClassifier\n",
    "from sklearn.model_selection import GridSearchCV\n",
    "from sklearn.datasets import make_classification\n",
    "\n",
    "def searchP(X, y):\n",
    "    param_grid = {\n",
    "    'n_estimators': [100, 200, 300],\n",
    "    'max_depth': [5, 7, 9],\n",
    "    'min_samples_split': [2, 5, 10]}\n",
    "    rf = RandomForestClassifier(random_state=42)\n",
    "    grid_search = GridSearchCV(rf, param_grid=param_grid, cv=5)\n",
    "    grid_search.fit(X, y)\n",
    "    print(\"Best hyperparameters: \", grid_search.best_params_)"
   ]
  },
  {
   "cell_type": "code",
   "execution_count": 12,
   "id": "6cc0e821",
   "metadata": {
    "execution": {
     "iopub.execute_input": "2023-05-02T04:16:01.158603Z",
     "iopub.status.busy": "2023-05-02T04:16:01.157822Z",
     "iopub.status.idle": "2023-05-02T06:13:00.393125Z",
     "shell.execute_reply": "2023-05-02T06:13:00.390933Z"
    },
    "papermill": {
     "duration": 7019.260839,
     "end_time": "2023-05-02T06:13:00.408848",
     "exception": false,
     "start_time": "2023-05-02T04:16:01.148009",
     "status": "completed"
    },
    "tags": []
   },
   "outputs": [
    {
     "name": "stdout",
     "output_type": "stream",
     "text": [
      "#########################\n",
      "### Fold 1\n",
      "#########################\n",
      "1 , 2 , 3 , 4 , 5 , 6 , 7 , 8 , 9 , 10 , 11 , 12 , 13 , 14 , 15 , 16 , 17 , 18 , \n",
      "#########################\n",
      "### Fold 2\n",
      "#########################\n",
      "1 , 2 , 3 , 4 , 5 , 6 , 7 , 8 , 9 , 10 , 11 , 12 , 13 , 14 , 15 , 16 , 17 , 18 , \n",
      "#########################\n",
      "### Fold 3\n",
      "#########################\n",
      "1 , 2 , 3 , 4 , 5 , 6 , 7 , 8 , 9 , 10 , 11 , 12 , 13 , 14 , 15 , 16 , 17 , 18 , \n",
      "#########################\n",
      "### Fold 4\n",
      "#########################\n",
      "1 , 2 , 3 , 4 , 5 , 6 , 7 , 8 , 9 , 10 , 11 , 12 , 13 , 14 , 15 , 16 , 17 , 18 , \n",
      "#########################\n",
      "### Fold 5\n",
      "#########################\n",
      "1 , 2 , 3 , 4 , 5 , 6 , 7 , 8 , 9 , 10 , 11 , 12 , 13 , 14 , 15 , 16 , 17 , 18 , \n"
     ]
    }
   ],
   "source": [
    "gkf = GroupKFold(n_splits=5)\n",
    "oof = pd.DataFrame(data=np.zeros((len(ALL_USERS),18)), index=ALL_USERS)\n",
    "models = {}\n",
    "\n",
    "# COMPUTE CV SCORE WITH 5 GROUP K FOLD\n",
    "for i, (train_index, test_index) in enumerate(gkf.split(X=df, groups=df.index)):\n",
    "    print('#'*25)\n",
    "    print('### Fold',i+1)\n",
    "    print('#'*25)\n",
    "    \n",
    "    # ITERATE THRU QUESTIONS 1 THRU 18\n",
    "    for t in range(1,19):\n",
    "        print(t,', ',end='')\n",
    "        \n",
    "        # USE THIS TRAIN DATA WITH THESE QUESTIONS\n",
    "        if t<=3: grp = '0-4'\n",
    "        elif t<=13: grp = '5-12'\n",
    "        elif t<=22: grp = '13-22'\n",
    "            \n",
    "        # TRAIN DATA\n",
    "        train_x = df.iloc[train_index]\n",
    "        train_x = train_x.loc[train_x.level_group == grp]\n",
    "        train_users = train_x.index.values\n",
    "        train_y = targets.loc[targets.q==t].set_index('session').loc[train_users]\n",
    "        \n",
    "        # VALID DATA\n",
    "        valid_x = df.iloc[test_index]\n",
    "        valid_x = valid_x.loc[valid_x.level_group == grp]\n",
    "        valid_users = valid_x.index.values\n",
    "        valid_y = targets.loc[targets.q==t].set_index('session').loc[valid_users]\n",
    "        \n",
    "        # TRAIN MODEL\n",
    "        clf = RandomForestClassifier(max_depth=6) \n",
    "        \n",
    "        # search for hyperparameters for each fold each question\n",
    "#         searchP(train_x[FEATURES].astype('float32'), train_y['correct'])\n",
    "      \n",
    "\n",
    "        clf.fit(train_x[FEATURES].astype('float32'), train_y['correct'])\n",
    "        \n",
    "        # SAVE MODEL, PREDICT VALID OOF\n",
    "        models[f'{grp}_{t}'] = clf\n",
    "        oof.loc[valid_users, t-1] = clf.predict_proba(valid_x[FEATURES].astype('float32'))[:,1]\n",
    "        \n",
    "    print()"
   ]
  },
  {
   "cell_type": "code",
   "execution_count": 13,
   "id": "3c34c424",
   "metadata": {
    "execution": {
     "iopub.execute_input": "2023-05-02T06:13:00.443058Z",
     "iopub.status.busy": "2023-05-02T06:13:00.442110Z",
     "iopub.status.idle": "2023-05-02T06:13:00.572049Z",
     "shell.execute_reply": "2023-05-02T06:13:00.571010Z"
    },
    "papermill": {
     "duration": 0.151435,
     "end_time": "2023-05-02T06:13:00.574920",
     "exception": false,
     "start_time": "2023-05-02T06:13:00.423485",
     "status": "completed"
    },
    "tags": []
   },
   "outputs": [],
   "source": [
    "import pickle\n",
    "\n",
    "# save model\n",
    "pickle.dump( models, open( \"/kaggle/working/models.p\", \"wb\" ) )"
   ]
  },
  {
   "cell_type": "code",
   "execution_count": 14,
   "id": "15cd069a",
   "metadata": {
    "execution": {
     "iopub.execute_input": "2023-05-02T06:13:00.607629Z",
     "iopub.status.busy": "2023-05-02T06:13:00.607216Z",
     "iopub.status.idle": "2023-05-02T06:13:00.705727Z",
     "shell.execute_reply": "2023-05-02T06:13:00.704719Z"
    },
    "papermill": {
     "duration": 0.117823,
     "end_time": "2023-05-02T06:13:00.708480",
     "exception": false,
     "start_time": "2023-05-02T06:13:00.590657",
     "status": "completed"
    },
    "tags": []
   },
   "outputs": [
    {
     "data": {
      "text/plain": [
       "{'0-4_1': RandomForestClassifier(max_depth=6),\n",
       " '0-4_2': RandomForestClassifier(max_depth=6),\n",
       " '0-4_3': RandomForestClassifier(max_depth=6),\n",
       " '5-12_4': RandomForestClassifier(max_depth=6),\n",
       " '5-12_5': RandomForestClassifier(max_depth=6),\n",
       " '5-12_6': RandomForestClassifier(max_depth=6),\n",
       " '5-12_7': RandomForestClassifier(max_depth=6),\n",
       " '5-12_8': RandomForestClassifier(max_depth=6),\n",
       " '5-12_9': RandomForestClassifier(max_depth=6),\n",
       " '5-12_10': RandomForestClassifier(max_depth=6),\n",
       " '5-12_11': RandomForestClassifier(max_depth=6),\n",
       " '5-12_12': RandomForestClassifier(max_depth=6),\n",
       " '5-12_13': RandomForestClassifier(max_depth=6),\n",
       " '13-22_14': RandomForestClassifier(max_depth=6),\n",
       " '13-22_15': RandomForestClassifier(max_depth=6),\n",
       " '13-22_16': RandomForestClassifier(max_depth=6),\n",
       " '13-22_17': RandomForestClassifier(max_depth=6),\n",
       " '13-22_18': RandomForestClassifier(max_depth=6)}"
      ]
     },
     "execution_count": 14,
     "metadata": {},
     "output_type": "execute_result"
    }
   ],
   "source": [
    "import pickle\n",
    "\n",
    "#load model from save\n",
    "models1 = pickle.load( open( \"/kaggle/working/models.p\", \"rb\" ) )\n",
    "models1"
   ]
  },
  {
   "cell_type": "markdown",
   "id": "7aad37d5",
   "metadata": {
    "papermill": {
     "duration": 0.014314,
     "end_time": "2023-05-02T06:13:00.737283",
     "exception": false,
     "start_time": "2023-05-02T06:13:00.722969",
     "status": "completed"
    },
    "tags": []
   },
   "source": [
    "# Compute CV Score\n",
    "We need to convert prediction probabilities into `1s` and `0s`. The competition metric is F1 Score which is the harmonic mean of precision and recall. Let's find the optimal threshold for `p > threshold` when to predict `1` and when to predict `0` to maximize F1 Score."
   ]
  },
  {
   "cell_type": "code",
   "execution_count": 15,
   "id": "fd9a644e",
   "metadata": {
    "execution": {
     "iopub.execute_input": "2023-05-02T06:13:01.045635Z",
     "iopub.status.busy": "2023-05-02T06:13:01.044590Z",
     "iopub.status.idle": "2023-05-02T06:13:01.152443Z",
     "shell.execute_reply": "2023-05-02T06:13:01.151392Z"
    },
    "papermill": {
     "duration": 0.126197,
     "end_time": "2023-05-02T06:13:01.154956",
     "exception": false,
     "start_time": "2023-05-02T06:13:01.028759",
     "status": "completed"
    },
    "tags": []
   },
   "outputs": [],
   "source": [
    "# PUT TRUE LABELS INTO DATAFRAME WITH 18 COLUMNS\n",
    "true = oof.copy()\n",
    "for k in range(18):\n",
    "    # GET TRUE LABELS\n",
    "    tmp = targets.loc[targets.q == k+1].set_index('session').loc[ALL_USERS]\n",
    "    true[k] = tmp.correct.values"
   ]
  },
  {
   "cell_type": "code",
   "execution_count": 16,
   "id": "672efe98",
   "metadata": {
    "execution": {
     "iopub.execute_input": "2023-05-02T06:13:01.186443Z",
     "iopub.status.busy": "2023-05-02T06:13:01.185708Z",
     "iopub.status.idle": "2023-05-02T06:13:01.944198Z",
     "shell.execute_reply": "2023-05-02T06:13:01.943047Z"
    },
    "papermill": {
     "duration": 0.777955,
     "end_time": "2023-05-02T06:13:01.947402",
     "exception": false,
     "start_time": "2023-05-02T06:13:01.169447",
     "status": "completed"
    },
    "tags": []
   },
   "outputs": [
    {
     "name": "stdout",
     "output_type": "stream",
     "text": [
      "0.40, 0.41, 0.42, 0.43, 0.44, 0.45, 0.46, 0.47, 0.48, 0.49, 0.50, 0.51, 0.52, 0.53, 0.54, 0.55, 0.56, 0.57, 0.58, 0.59, 0.60, 0.61, 0.62, 0.63, 0.64, 0.65, 0.66, 0.67, 0.68, 0.69, 0.70, 0.71, 0.72, 0.73, 0.74, 0.75, 0.76, 0.77, 0.78, 0.79, 0.80, "
     ]
    }
   ],
   "source": [
    "# FIND BEST THRESHOLD TO CONVERT PROBS INTO 1s AND 0s\n",
    "scores = []; thresholds = []\n",
    "best_score = 0; best_threshold = 0\n",
    "\n",
    "for threshold in np.arange(0.4,0.81,0.01):\n",
    "    print(f'{threshold:.02f}, ',end='')\n",
    "    preds = (oof.values.reshape((-1))>threshold).astype('int')\n",
    "    m = f1_score(true.values.reshape((-1)), preds, average='macro')   \n",
    "    scores.append(m)\n",
    "    thresholds.append(threshold)\n",
    "    if m>best_score:\n",
    "        best_score = m\n",
    "        best_threshold = threshold"
   ]
  },
  {
   "cell_type": "code",
   "execution_count": 17,
   "id": "6cc37e1b",
   "metadata": {
    "execution": {
     "iopub.execute_input": "2023-05-02T06:13:01.979452Z",
     "iopub.status.busy": "2023-05-02T06:13:01.977997Z",
     "iopub.status.idle": "2023-05-02T06:13:02.293166Z",
     "shell.execute_reply": "2023-05-02T06:13:02.292235Z"
    },
    "papermill": {
     "duration": 0.333675,
     "end_time": "2023-05-02T06:13:02.295551",
     "exception": false,
     "start_time": "2023-05-02T06:13:01.961876",
     "status": "completed"
    },
    "tags": []
   },
   "outputs": [
    {
     "data": {
      "image/png": "[encoded data removed]",
      "text/plain": [
       "<Figure size 1440x360 with 1 Axes>"
      ]
     },
     "metadata": {
      "needs_background": "light"
     },
     "output_type": "display_data"
    }
   ],
   "source": [
    "import matplotlib.pyplot as plt\n",
    "\n",
    "# PLOT THRESHOLD VS. F1_SCORE\n",
    "plt.figure(figsize=(20,5))\n",
    "plt.plot(thresholds,scores,'-o',color='blue')\n",
    "plt.scatter([best_threshold], [best_score], color='blue', s=300, alpha=1)\n",
    "plt.xlabel('Threshold',size=14)\n",
    "plt.ylabel('Validation F1 Score',size=14)\n",
    "plt.title(f'Threshold vs. F1_Score with Best F1_Score = {best_score:.3f} at Best Threshold = {best_threshold:.3}',size=18)\n",
    "plt.show()"
   ]
  },
  {
   "cell_type": "code",
   "execution_count": 18,
   "id": "403dcac9",
   "metadata": {
    "execution": {
     "iopub.execute_input": "2023-05-02T06:13:02.330202Z",
     "iopub.status.busy": "2023-05-02T06:13:02.329296Z",
     "iopub.status.idle": "2023-05-02T06:13:02.386239Z",
     "shell.execute_reply": "2023-05-02T06:13:02.385203Z"
    },
    "papermill": {
     "duration": 0.077365,
     "end_time": "2023-05-02T06:13:02.388783",
     "exception": false,
     "start_time": "2023-05-02T06:13:02.311418",
     "status": "completed"
    },
    "tags": []
   },
   "outputs": [
    {
     "name": "stdout",
     "output_type": "stream",
     "text": [
      "When using optimal threshold...\n",
      "Q0: F1 = 0.5666042104527871\n",
      "Q1: F1 = 0.4962598845907245\n",
      "Q2: F1 = 0.48152221733392\n",
      "Q3: F1 = 0.5375221960727818\n",
      "Q4: F1 = 0.3181949667341626\n",
      "Q5: F1 = 0.553155636112292\n",
      "Q6: F1 = 0.478443665867601\n",
      "Q7: F1 = 0.5010696608161849\n",
      "Q8: F1 = 0.6021448029291716\n",
      "Q9: F1 = 0.33361605880689854\n",
      "Q10: F1 = 0.5387817077757442\n",
      "Q11: F1 = 0.47412865225057604\n",
      "Q12: F1 = 0.4262414800389484\n",
      "Q13: F1 = 0.5880995910363895\n",
      "Q14: F1 = 0.3472618200872249\n",
      "Q15: F1 = 0.45817008949852056\n",
      "Q16: F1 = 0.4504019157373965\n",
      "Q17: F1 = 0.48604448320976884\n",
      "==> Overall F1 = 0.6610403352425769\n"
     ]
    }
   ],
   "source": [
    "print('When using optimal threshold...')\n",
    "for k in range(18):\n",
    "        \n",
    "    # COMPUTE F1 SCORE PER QUESTION\n",
    "    m = f1_score(true[k].values, (oof[k].values>best_threshold).astype('int'), average='macro')\n",
    "    print(f'Q{k}: F1 =',m)\n",
    "    \n",
    "# COMPUTE F1 SCORE OVERALL\n",
    "m = f1_score(true.values.reshape((-1)), (oof.values.reshape((-1))>best_threshold).astype('int'), average='macro')\n",
    "print('==> Overall F1 =',m)"
   ]
  },
  {
   "cell_type": "markdown",
   "id": "bb84f8a8",
   "metadata": {
    "papermill": {
     "duration": 0.015523,
     "end_time": "2023-05-02T06:13:02.420104",
     "exception": false,
     "start_time": "2023-05-02T06:13:02.404581",
     "status": "completed"
    },
    "tags": []
   },
   "source": [
    "# Infer Test Data"
   ]
  },
  {
   "cell_type": "code",
   "execution_count": 19,
   "id": "076fa41c",
   "metadata": {
    "execution": {
     "iopub.execute_input": "2023-05-02T06:13:02.452975Z",
     "iopub.status.busy": "2023-05-02T06:13:02.452142Z",
     "iopub.status.idle": "2023-05-02T06:13:02.491814Z",
     "shell.execute_reply": "2023-05-02T06:13:02.490469Z"
    },
    "papermill": {
     "duration": 0.059076,
     "end_time": "2023-05-02T06:13:02.494539",
     "exception": false,
     "start_time": "2023-05-02T06:13:02.435463",
     "status": "completed"
    },
    "tags": []
   },
   "outputs": [],
   "source": [
    "import jo_wilder\n",
    "env = jo_wilder.make_env()\n",
    "iter_test = env.iter_test()"
   ]
  },
  {
   "cell_type": "code",
   "execution_count": 20,
   "id": "ae845ad2",
   "metadata": {
    "execution": {
     "iopub.execute_input": "2023-05-02T06:13:02.527413Z",
     "iopub.status.busy": "2023-05-02T06:13:02.526981Z",
     "iopub.status.idle": "2023-05-02T06:13:02.532192Z",
     "shell.execute_reply": "2023-05-02T06:13:02.531272Z"
    },
    "papermill": {
     "duration": 0.024417,
     "end_time": "2023-05-02T06:13:02.534546",
     "exception": false,
     "start_time": "2023-05-02T06:13:02.510129",
     "status": "completed"
    },
    "tags": []
   },
   "outputs": [],
   "source": [
    "jo_wilder.make_env.__called__ = False"
   ]
  },
  {
   "cell_type": "code",
   "execution_count": 21,
   "id": "8758cf18",
   "metadata": {
    "collapsed": true,
    "execution": {
     "iopub.execute_input": "2023-05-02T06:13:02.569190Z",
     "iopub.status.busy": "2023-05-02T06:13:02.568419Z",
     "iopub.status.idle": "2023-05-02T06:13:04.295677Z",
     "shell.execute_reply": "2023-05-02T06:13:04.294475Z"
    },
    "jupyter": {
     "outputs_hidden": true
    },
    "papermill": {
     "duration": 1.74883,
     "end_time": "2023-05-02T06:13:04.299482",
     "exception": false,
     "start_time": "2023-05-02T06:13:02.550652",
     "status": "completed"
    },
    "tags": []
   },
   "outputs": [
    {
     "name": "stdout",
     "output_type": "stream",
     "text": [
      "This version of the API is not optimized and should not be used to estimate the runtime of your code on the hidden test set.\n"
     ]
    },
    {
     "name": "stderr",
     "output_type": "stream",
     "text": [
      "/opt/conda/lib/python3.7/site-packages/ipykernel_launcher.py:43: SettingWithCopyWarning: \n",
      "A value is trying to be set on a copy of a slice from a DataFrame\n",
      "\n",
      "See the caveats in the documentation: https://pandas.pydata.org/pandas-docs/stable/user_guide/indexing.html#returning-a-view-versus-a-copy\n",
      "/opt/conda/lib/python3.7/site-packages/ipykernel_launcher.py:48: SettingWithCopyWarning: \n",
      "A value is trying to be set on a copy of a slice from a DataFrame\n",
      "\n",
      "See the caveats in the documentation: https://pandas.pydata.org/pandas-docs/stable/user_guide/indexing.html#returning-a-view-versus-a-copy\n",
      "/opt/conda/lib/python3.7/site-packages/ipykernel_launcher.py:43: SettingWithCopyWarning: \n",
      "A value is trying to be set on a copy of a slice from a DataFrame\n",
      "\n",
      "See the caveats in the documentation: https://pandas.pydata.org/pandas-docs/stable/user_guide/indexing.html#returning-a-view-versus-a-copy\n",
      "/opt/conda/lib/python3.7/site-packages/ipykernel_launcher.py:48: SettingWithCopyWarning: \n",
      "A value is trying to be set on a copy of a slice from a DataFrame\n",
      "\n",
      "See the caveats in the documentation: https://pandas.pydata.org/pandas-docs/stable/user_guide/indexing.html#returning-a-view-versus-a-copy\n",
      "/opt/conda/lib/python3.7/site-packages/ipykernel_launcher.py:43: SettingWithCopyWarning: \n",
      "A value is trying to be set on a copy of a slice from a DataFrame\n",
      "\n",
      "See the caveats in the documentation: https://pandas.pydata.org/pandas-docs/stable/user_guide/indexing.html#returning-a-view-versus-a-copy\n",
      "/opt/conda/lib/python3.7/site-packages/ipykernel_launcher.py:48: SettingWithCopyWarning: \n",
      "A value is trying to be set on a copy of a slice from a DataFrame\n",
      "\n",
      "See the caveats in the documentation: https://pandas.pydata.org/pandas-docs/stable/user_guide/indexing.html#returning-a-view-versus-a-copy\n",
      "/opt/conda/lib/python3.7/site-packages/ipykernel_launcher.py:43: SettingWithCopyWarning: \n",
      "A value is trying to be set on a copy of a slice from a DataFrame\n",
      "\n",
      "See the caveats in the documentation: https://pandas.pydata.org/pandas-docs/stable/user_guide/indexing.html#returning-a-view-versus-a-copy\n",
      "/opt/conda/lib/python3.7/site-packages/ipykernel_launcher.py:48: SettingWithCopyWarning: \n",
      "A value is trying to be set on a copy of a slice from a DataFrame\n",
      "\n",
      "See the caveats in the documentation: https://pandas.pydata.org/pandas-docs/stable/user_guide/indexing.html#returning-a-view-versus-a-copy\n",
      "/opt/conda/lib/python3.7/site-packages/ipykernel_launcher.py:43: SettingWithCopyWarning: \n",
      "A value is trying to be set on a copy of a slice from a DataFrame\n",
      "\n",
      "See the caveats in the documentation: https://pandas.pydata.org/pandas-docs/stable/user_guide/indexing.html#returning-a-view-versus-a-copy\n",
      "/opt/conda/lib/python3.7/site-packages/ipykernel_launcher.py:48: SettingWithCopyWarning: \n",
      "A value is trying to be set on a copy of a slice from a DataFrame\n",
      "\n",
      "See the caveats in the documentation: https://pandas.pydata.org/pandas-docs/stable/user_guide/indexing.html#returning-a-view-versus-a-copy\n",
      "/opt/conda/lib/python3.7/site-packages/ipykernel_launcher.py:43: SettingWithCopyWarning: \n",
      "A value is trying to be set on a copy of a slice from a DataFrame\n",
      "\n",
      "See the caveats in the documentation: https://pandas.pydata.org/pandas-docs/stable/user_guide/indexing.html#returning-a-view-versus-a-copy\n",
      "/opt/conda/lib/python3.7/site-packages/ipykernel_launcher.py:48: SettingWithCopyWarning: \n",
      "A value is trying to be set on a copy of a slice from a DataFrame\n",
      "\n",
      "See the caveats in the documentation: https://pandas.pydata.org/pandas-docs/stable/user_guide/indexing.html#returning-a-view-versus-a-copy\n",
      "/opt/conda/lib/python3.7/site-packages/ipykernel_launcher.py:43: SettingWithCopyWarning: \n",
      "A value is trying to be set on a copy of a slice from a DataFrame\n",
      "\n",
      "See the caveats in the documentation: https://pandas.pydata.org/pandas-docs/stable/user_guide/indexing.html#returning-a-view-versus-a-copy\n",
      "/opt/conda/lib/python3.7/site-packages/ipykernel_launcher.py:48: SettingWithCopyWarning: \n",
      "A value is trying to be set on a copy of a slice from a DataFrame\n",
      "\n",
      "See the caveats in the documentation: https://pandas.pydata.org/pandas-docs/stable/user_guide/indexing.html#returning-a-view-versus-a-copy\n",
      "/opt/conda/lib/python3.7/site-packages/ipykernel_launcher.py:43: SettingWithCopyWarning: \n",
      "A value is trying to be set on a copy of a slice from a DataFrame\n",
      "\n",
      "See the caveats in the documentation: https://pandas.pydata.org/pandas-docs/stable/user_guide/indexing.html#returning-a-view-versus-a-copy\n",
      "/opt/conda/lib/python3.7/site-packages/ipykernel_launcher.py:48: SettingWithCopyWarning: \n",
      "A value is trying to be set on a copy of a slice from a DataFrame\n",
      "\n",
      "See the caveats in the documentation: https://pandas.pydata.org/pandas-docs/stable/user_guide/indexing.html#returning-a-view-versus-a-copy\n",
      "/opt/conda/lib/python3.7/site-packages/ipykernel_launcher.py:43: SettingWithCopyWarning: \n",
      "A value is trying to be set on a copy of a slice from a DataFrame\n",
      "\n",
      "See the caveats in the documentation: https://pandas.pydata.org/pandas-docs/stable/user_guide/indexing.html#returning-a-view-versus-a-copy\n",
      "/opt/conda/lib/python3.7/site-packages/ipykernel_launcher.py:48: SettingWithCopyWarning: \n",
      "A value is trying to be set on a copy of a slice from a DataFrame\n",
      "\n",
      "See the caveats in the documentation: https://pandas.pydata.org/pandas-docs/stable/user_guide/indexing.html#returning-a-view-versus-a-copy\n"
     ]
    }
   ],
   "source": [
    "limits = {'0-4':(1,4), '5-12':(4,14), '13-22':(14,19)}\n",
    "\n",
    "for (test, sample_submission) in iter_test:\n",
    "    \n",
    "    #print(test.columns)\n",
    "    \n",
    "    df = feature_engineer(test)\n",
    "    \n",
    "    #add missing feature columns to df so that it fits the model\n",
    "    for i in FEATURES:\n",
    "        if i not in df.columns:\n",
    "            df[i] = 0\n",
    "    \n",
    "    #print(df.columns)\n",
    "    #print(sample_submission)\n",
    "    \n",
    "    grp = test.level_group.values[0]\n",
    "    a,b = limits[grp]\n",
    "    for t in range(a,b):\n",
    "        clf = models[f'{grp}_{t}']\n",
    "        p = clf.predict_proba(df[FEATURES].astype('float32'))[:,1]\n",
    "        #print(p)\n",
    "        mask = sample_submission.session_id.str.contains(f'q{t}')\n",
    "        sample_submission.loc[mask,'correct'] = int(p.mean()>best_threshold)\n",
    "    \n",
    "    env.predict(sample_submission)"
   ]
  },
  {
   "cell_type": "markdown",
   "id": "c494488e",
   "metadata": {
    "papermill": {
     "duration": 0.015595,
     "end_time": "2023-05-02T06:13:04.330887",
     "exception": false,
     "start_time": "2023-05-02T06:13:04.315292",
     "status": "completed"
    },
    "tags": []
   },
   "source": [
    "# EDA submission.csv"
   ]
  },
  {
   "cell_type": "code",
   "execution_count": 22,
   "id": "18f1f601",
   "metadata": {
    "execution": {
     "iopub.execute_input": "2023-05-02T06:13:04.366631Z",
     "iopub.status.busy": "2023-05-02T06:13:04.365788Z",
     "iopub.status.idle": "2023-05-02T06:13:04.380729Z",
     "shell.execute_reply": "2023-05-02T06:13:04.379723Z"
    },
    "papermill": {
     "duration": 0.034551,
     "end_time": "2023-05-02T06:13:04.382811",
     "exception": false,
     "start_time": "2023-05-02T06:13:04.348260",
     "status": "completed"
    },
    "tags": []
   },
   "outputs": [
    {
     "name": "stdout",
     "output_type": "stream",
     "text": [
      "(54, 2)\n"
     ]
    },
    {
     "data": {
      "text/html": [
       "<div>\n",
       "<style scoped>\n",
       "    .dataframe tbody tr th:only-of-type {\n",
       "        vertical-align: middle;\n",
       "    }\n",
       "\n",
       "    .dataframe tbody tr th {\n",
       "        vertical-align: top;\n",
       "    }\n",
       "\n",
       "    .dataframe thead th {\n",
       "        text-align: right;\n",
       "    }\n",
       "</style>\n",
       "<table border=\"1\" class=\"dataframe\">\n",
       "  <thead>\n",
       "    <tr style=\"text-align: right;\">\n",
       "      <th></th>\n",
       "      <th>session_id</th>\n",
       "      <th>correct</th>\n",
       "    </tr>\n",
       "  </thead>\n",
       "  <tbody>\n",
       "    <tr>\n",
       "      <th>0</th>\n",
       "      <td>20090109393214576_q1</td>\n",
       "      <td>1</td>\n",
       "    </tr>\n",
       "    <tr>\n",
       "      <th>1</th>\n",
       "      <td>20090109393214576_q2</td>\n",
       "      <td>1</td>\n",
       "    </tr>\n",
       "    <tr>\n",
       "      <th>2</th>\n",
       "      <td>20090109393214576_q3</td>\n",
       "      <td>1</td>\n",
       "    </tr>\n",
       "    <tr>\n",
       "      <th>3</th>\n",
       "      <td>20090109393214576_q4</td>\n",
       "      <td>1</td>\n",
       "    </tr>\n",
       "    <tr>\n",
       "      <th>4</th>\n",
       "      <td>20090109393214576_q5</td>\n",
       "      <td>0</td>\n",
       "    </tr>\n",
       "  </tbody>\n",
       "</table>\n",
       "</div>"
      ],
      "text/plain": [
       "             session_id  correct\n",
       "0  20090109393214576_q1        1\n",
       "1  20090109393214576_q2        1\n",
       "2  20090109393214576_q3        1\n",
       "3  20090109393214576_q4        1\n",
       "4  20090109393214576_q5        0"
      ]
     },
     "execution_count": 22,
     "metadata": {},
     "output_type": "execute_result"
    }
   ],
   "source": [
    "df = pd.read_csv('submission.csv')\n",
    "print( df.shape )\n",
    "df.head()"
   ]
  },
  {
   "cell_type": "code",
   "execution_count": 23,
   "id": "3ce94578",
   "metadata": {
    "execution": {
     "iopub.execute_input": "2023-05-02T06:13:04.417325Z",
     "iopub.status.busy": "2023-05-02T06:13:04.416503Z",
     "iopub.status.idle": "2023-05-02T06:13:04.424412Z",
     "shell.execute_reply": "2023-05-02T06:13:04.423100Z"
    },
    "papermill": {
     "duration": 0.02761,
     "end_time": "2023-05-02T06:13:04.426634",
     "exception": false,
     "start_time": "2023-05-02T06:13:04.399024",
     "status": "completed"
    },
    "tags": []
   },
   "outputs": [
    {
     "name": "stdout",
     "output_type": "stream",
     "text": [
      "0.6666666666666666\n"
     ]
    }
   ],
   "source": [
    "df = df[df.correct != 'correct']\n",
    "print(df.correct.astype(int).mean())"
   ]
  }
 ],
 "metadata": {
  "kernelspec": {
   "display_name": "Python 3",
   "language": "python",
   "name": "python3"
  },
  "language_info": {
   "codemirror_mode": {
    "name": "ipython",
    "version": 3
   },
   "file_extension": ".py",
   "mimetype": "text/x-python",
   "name": "python",
   "nbconvert_exporter": "python",
   "pygments_lexer": "ipython3",
   "version": "3.7.12"
  },
  "papermill": {
   "default_parameters": {},
   "duration": 7132.195534,
   "end_time": "2023-05-02T06:13:06.080791",
   "environment_variables": {},
   "exception": null,
   "input_path": "__notebook__.ipynb",
   "output_path": "__notebook__.ipynb",
   "parameters": {},
   "start_time": "2023-05-02T04:14:13.885257",
   "version": "2.3.4"
  }
 },
 "nbformat": 4,
 "nbformat_minor": 5
}
